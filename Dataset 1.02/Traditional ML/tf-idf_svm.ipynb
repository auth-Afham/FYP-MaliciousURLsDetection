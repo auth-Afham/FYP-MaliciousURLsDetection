{
 "cells": [
  {
   "cell_type": "code",
   "execution_count": 1,
   "id": "bb5d0446",
   "metadata": {},
   "outputs": [],
   "source": [
    "from sklearn.feature_extraction.text import TfidfVectorizer\n",
    "from sklearn.svm import SVC\n",
    "from sklearn.model_selection import train_test_split\n",
    "from sklearn.metrics import accuracy_score, precision_score, recall_score, f1_score\n",
    "import pandas as pd\n",
    "import joblib\n",
    "import numpy as np"
   ]
  },
  {
   "cell_type": "code",
   "execution_count": 2,
   "id": "57dffa72",
   "metadata": {},
   "outputs": [],
   "source": [
    "# Load the updated dataset\n",
    "url_dataset = pd.read_csv(\"../split_urls.csv\")\n",
    "url_dataset"
   ]
  },
  {
   "cell_type": "code",
   "execution_count": 3,
   "id": "4c012f6a",
   "metadata": {},
   "outputs": [
    {
     "name": "stdout",
     "output_type": "stream",
     "text": [
      "Total number of rows in the CSV: 651191\n"
     ]
    }
   ],
   "source": [
    "# Replace empty cells with whitespace\n",
    "url_dataset = url_dataset.fillna(\"\")"
   ]
  },
  {
   "cell_type": "code",
   "execution_count": 4,
   "id": "33a35a85",
   "metadata": {},
   "outputs": [],
   "source": [
    "# Extract URLs and labels from the dataset\n",
    "all_urls = url_dataset['protocol'] + \"://\" + url_dataset['domain'] + url_dataset['path'] + url_dataset['query'] + url_dataset['fragment']\n",
    "labels = np.array((url_dataset['category'] == 'malicious').astype(int)).reshape(-1, 1)"
   ]
  },
  {
   "cell_type": "code",
   "execution_count": 5,
   "id": "a7528852",
   "metadata": {},
   "outputs": [],
   "source": [
    "# Create a TfidfVectorizer for one-hot encoding\n",
    "vectorizer = TfidfVectorizer(binary=True)\n",
    "X = vectorizer.fit_transform(all_urls)"
   ]
  },
  {
   "cell_type": "code",
   "execution_count": null,
   "id": "e6ac1f59",
   "metadata": {},
   "outputs": [],
   "source": [
    "# Split the dataset into a training set and a testing set\n",
    "X_train, X_test, y_train, y_test = train_test_split(X, labels, test_size=0.2, random_state=42)"
   ]
  },
  {
   "cell_type": "code",
   "execution_count": null,
   "id": "f698975e",
   "metadata": {},
   "outputs": [],
   "source": [
    "# Train a Decision Tree classifier\n",
    "clf = SVC(random_state=42)\n",
    "clf.fit(X_train, y_train)"
   ]
  },
  {
   "cell_type": "code",
   "execution_count": null,
   "id": "144eedce",
   "metadata": {},
   "outputs": [],
   "source": [
    "# Predict labels for the test set\n",
    "y_pred = clf.predict(X_test)"
   ]
  },
  {
   "cell_type": "code",
   "execution_count": null,
   "id": "12308c17",
   "metadata": {},
   "outputs": [],
   "source": [
    "# Calculate evaluation metrics\n",
    "accuracy = accuracy_score(y_test, y_pred)\n",
    "precision = precision_score(y_test, y_pred, average=\"weighted\")\n",
    "recall = recall_score(y_test, y_pred, average=\"weighted\")\n",
    "f1 = f1_score(y_test, y_pred, average=\"weighted\")"
   ]
  },
  {
   "cell_type": "code",
   "execution_count": null,
   "id": "58431552",
   "metadata": {},
   "outputs": [],
   "source": [
    "# Display evaluation metrics\n",
    "print(f\"Accuracy: {accuracy}\")\n",
    "print(f\"Precision: {precision}\")\n",
    "print(f\"Recall: {recall}\")\n",
    "print(f\"F1-Score: {f1}\")"
   ]
  }
 ],
 "metadata": {
  "jupytext": {
   "cell_metadata_filter": "-all",
   "main_language": "python",
   "notebook_metadata_filter": "-all"
  },
  "kernelspec": {
   "display_name": "Python 3",
   "language": "python",
   "name": "python3"
  },
  "language_info": {
   "codemirror_mode": {
    "name": "ipython",
    "version": 3
   },
   "file_extension": ".py",
   "mimetype": "text/x-python",
   "name": "python",
   "nbconvert_exporter": "python",
   "pygments_lexer": "ipython3",
   "version": "3.11.5"
  }
 },
 "nbformat": 4,
 "nbformat_minor": 5
}
