{
 "cells": [
  {
   "cell_type": "code",
   "execution_count": null,
   "metadata": {},
   "outputs": [],
   "source": [
    "import joblib"
   ]
  },
  {
   "cell_type": "code",
   "execution_count": null,
   "metadata": {},
   "outputs": [],
   "source": [
    "# Load the trained model and Vectorizer from files\n",
    "model_filename = \"../Traditional ML/Models/cv_xgb.pkl\"\n",
    "vectorizer_filename = \"../Traditional ML/Vectorizers/vectorizer_cv_xgb.pkl\"\n",
    "label_encoder_filename = \"../Traditional ML/Label Encoders/label_encoder_cv_xgb.pkl\""
   ]
  },
  {
   "cell_type": "code",
   "execution_count": null,
   "metadata": {},
   "outputs": [],
   "source": [
    "# Load the saved model, Vectorizer, and LabelEncoder\n",
    "loaded_xgb_model = joblib.load(model_filename)\n",
    "loaded_vectorizer = joblib.load(vectorizer_filename)\n",
    "loaded_label_encoder = joblib.load(label_encoder_filename)"
   ]
  },
  {
   "cell_type": "code",
   "execution_count": null,
   "metadata": {},
   "outputs": [],
   "source": [
    "# Testing the trained model using user input\n",
    "while True:\n",
    "    user_input = input(\"Enter a URL (or type 'exit' to quit): \")\n",
    "    if user_input.lower() == \"exit\":\n",
    "        break\n",
    "\n",
    "    # Process user input to match the input format used for the model\n",
    "    user_features_vectorized = loaded_vectorizer.transform([user_input])\n",
    "\n",
    "    # Make a prediction\n",
    "    prediction = loaded_xgb_model.predict(user_features_vectorized)\n",
    "\n",
    "    # Decode the numerical prediction back to string format\n",
    "    decoded_prediction = loaded_label_encoder.inverse_transform(prediction)\n",
    "\n",
    "    # Display the prediction\n",
    "    print(f\"Category: {decoded_prediction[0]}\\n\")"
   ]
  }
 ],
 "metadata": {
  "language_info": {
   "name": "python"
  }
 },
 "nbformat": 4,
 "nbformat_minor": 2
}
