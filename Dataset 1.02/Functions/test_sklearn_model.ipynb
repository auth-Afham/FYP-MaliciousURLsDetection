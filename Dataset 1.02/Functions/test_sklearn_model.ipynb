{
 "cells": [
  {
   "cell_type": "code",
   "execution_count": null,
   "metadata": {},
   "outputs": [],
   "source": [
    "import joblib"
   ]
  },
  {
   "cell_type": "code",
   "execution_count": null,
   "metadata": {},
   "outputs": [],
   "source": [
    "# Save the trained model and CountVectorizer to files\n",
    "model_filename = \"../Traditional ML/Models/cv_lr.pkl\"\n",
    "vectorizer_filename = \"../Traditional ML/Vectorizers/vectorizer_cv_lr.pkl\""
   ]
  },
  {
   "cell_type": "code",
   "execution_count": null,
   "metadata": {},
   "outputs": [],
   "source": [
    "# Load the saved model and CountVectorizer\n",
    "clf = joblib.load(model_filename)\n",
    "vectorizer = joblib.load(vectorizer_filename)"
   ]
  },
  {
   "cell_type": "code",
   "execution_count": null,
   "metadata": {},
   "outputs": [],
   "source": [
    "# Testing the trained model using user input\n",
    "while True:\n",
    "    user_input = input(\"Enter a URL (or type 'exit' to quit): \")\n",
    "    if user_input.lower() == \"exit\":\n",
    "        break\n",
    "\n",
    "    # Process user input to match the input format used for the model\n",
    "    user_features_vectorized = vectorizer.transform([user_input])\n",
    "\n",
    "    # Make a prediction\n",
    "    prediction = clf.predict(user_features_vectorized)\n",
    "\n",
    "    # Display the prediction\n",
    "    print(f\"Category: {prediction[0]}\\n\")"
   ]
  }
 ],
 "metadata": {
  "language_info": {
   "name": "python"
  }
 },
 "nbformat": 4,
 "nbformat_minor": 2
}
