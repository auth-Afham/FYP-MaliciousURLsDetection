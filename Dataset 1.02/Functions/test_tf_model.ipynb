{
 "cells": [
  {
   "cell_type": "code",
   "execution_count": null,
   "metadata": {},
   "outputs": [],
   "source": [
    "import tensorflow as tf\n",
    "from tensorflow.keras.preprocessing.text import Tokenizer\n",
    "from tensorflow.keras.preprocessing.sequence import pad_sequences"
   ]
  },
  {
   "cell_type": "code",
   "execution_count": null,
   "metadata": {},
   "outputs": [],
   "source": [
    "# Tokenize and pad sequences\n",
    "tokenizer = Tokenizer()"
   ]
  },
  {
   "cell_type": "code",
   "execution_count": null,
   "metadata": {},
   "outputs": [],
   "source": [
    "# Load the saved model\n",
    "loaded_model = tf.keras.models.load_model(\"../Neural Network/Models/malicious_url_model.h5\")"
   ]
  },
  {
   "cell_type": "code",
   "execution_count": null,
   "metadata": {},
   "outputs": [],
   "source": [
    "# Forever loop to prompt the user for string input\n",
    "while True:\n",
    "    user_input = input(\"Enter a URL to test (or 'exit' to quit): \")\n",
    "    \n",
    "    if user_input.lower() == 'exit':\n",
    "        break\n",
    "\n",
    "    user_sequence = tokenizer.texts_to_sequences([user_input])\n",
    "    user_padded_sequence = pad_sequences(user_sequence, maxlen=padded_sequences.shape[1])\n",
    "\n",
    "    prediction = loaded_model.predict(user_padded_sequence)\n",
    "    result = 'malicious' if prediction[0, 0] > 0.5 else 'benign'\n",
    "\n",
    "    print(f\"URL: {user_input}, Predicted Probability: {prediction[0, 0]}, {result}\")"
   ]
  }
 ],
 "metadata": {
  "language_info": {
   "name": "python"
  }
 },
 "nbformat": 4,
 "nbformat_minor": 2
}
